{
 "cells": [
  {
   "cell_type": "markdown",
   "id": "08cb1ec5",
   "metadata": {},
   "source": [
    "# Task:\n",
    "1. Simulate player gameplay \n",
    "2. Estimate their average spend\n",
    "3. Determine fixed rewards for each completed level. The reward structure should be designed in such a way that the expected value of player rewards equals 1.3 times their\n",
    "average spend (including any additional deposits)."
   ]
  },
  {
   "cell_type": "markdown",
   "id": "7c728409",
   "metadata": {},
   "source": [
    "### 1. Simulation of Gameplay\n",
    "The player progresses through the levels by playing slot games. Upon reaching specific multipliers (e.g. x25, x50, etc.) in a limited time, the player advances to the next level. \n",
    "\n",
    "##### i. Player progression:\n",
    "- Player enters a challenge at level 1 with a non zero bankroll (approx. 50 EUR)\n",
    "- Players must hit or exceed the target multiplier in the given time.\n",
    "- If they reached the next level the unused time is added to the next level.\n",
    "- Players can add additional funds up to 4 times.\n",
    "\n",
    "##### ii. End of the game:\n",
    "- Players do not reach or surpass the target multiplaier in the given time\n",
    "- Players reach the max multiplaier\n",
    "- Players run out of money"
   ]
  },
  {
   "cell_type": "markdown",
   "id": "5952374f",
   "metadata": {},
   "source": [
    "### 2. Exploration of Variables\n",
    "\n",
    "How results vary based on: (given a slot machine)\n",
    "- initial bankroll size\n",
    "- additional deposit (max 4)\n",
    "- bet size: 1, 2, 5, 10, 20, 50 €"
   ]
  },
  {
   "cell_type": "markdown",
   "id": "5604d418",
   "metadata": {},
   "source": [
    "### 3. Reward Design\n",
    "\n",
    "- Define a fixed monetary reward for each level.\n",
    "- Ensure the prize structure logically scales with level difficulty and encourages\n",
    "progression.\n",
    "- The target is for the expected value of the rewards to equal 1.3× the player’s average\n",
    "spend, including all deposits. Example: A player deposits a total €100 of their funds\n",
    "into playing; the rewards should total €130.\n"
   ]
  },
  {
   "cell_type": "markdown",
   "id": "22b9bbf4",
   "metadata": {},
   "source": [
    "### 4. Key metrics:\n",
    "\n",
    "- player distribution across the levels\n",
    "- avg. spend per level for all levels\n",
    "- avg. time spend per level (potential indicator for player engagement)\n",
    "- avg. reward per level\n",
    "\n"
   ]
  },
  {
   "cell_type": "markdown",
   "id": "ace94165",
   "metadata": {},
   "source": [
    "### 5. Assumptions:\n",
    "- Spin time: \n",
    "    - 2 s (autospin)\n",
    "    - 5 s (player input) \n",
    "- Bet size: 1, 2, 5, 10, 20, 50 € (just mimicking the currency options)"
   ]
  },
  {
   "cell_type": "markdown",
   "id": "00217fff",
   "metadata": {},
   "source": [
    "### Used libraries and given data\n",
    "Numpy, matplotlib, pandas, ipytest"
   ]
  },
  {
   "cell_type": "code",
   "execution_count": 1,
   "id": "d7934ffb",
   "metadata": {},
   "outputs": [],
   "source": [
    "import numpy as np\n",
    "import matplotlib.pyplot as plt\n",
    "import pandas as pd\n",
    "import time\n",
    "import ipytest\n",
    "ipytest.autoconfig()         # picks up `pytest.ini` in cwd, if any\n",
    "\n"
   ]
  },
  {
   "cell_type": "code",
   "execution_count": null,
   "id": "9a7530bf",
   "metadata": {},
   "outputs": [
    {
     "name": "stdout",
     "output_type": "stream",
     "text": [
      "{1: {'target_multiplier': 25, 'time_limit': '30 min', 'time_seconds': 1800}, 2: {'target_multiplier': 50, 'time_limit': '1 hour', 'time_seconds': 3600}, 3: {'target_multiplier': 100, 'time_limit': '2 hours', 'time_seconds': 7200}, 4: {'target_multiplier': 200, 'time_limit': '3 hours', 'time_seconds': 10800}, 5: {'target_multiplier': 500, 'time_limit': '4 hours', 'time_seconds': 14400}, 6: {'target_multiplier': 800, 'time_limit': '6 hours', 'time_seconds': 21600}, 7: {'target_multiplier': 1500, 'time_limit': '8 hours', 'time_seconds': 28800}, 8: {'target_multiplier': 2500, 'time_limit': '12 hours', 'time_seconds': 43200}, 9: {'target_multiplier': 5000, 'time_limit': '24 hours', 'time_seconds': 86400}}\n",
      "<class 'numpy.ndarray'> (10000000,)\n"
     ]
    }
   ],
   "source": [
    "slot_machine_levels = {\n",
    "    1: {\n",
    "        \"target_multiplier\": 25,\n",
    "        \"time_limit\": \"30 min\",\n",
    "        \"time_seconds\": 30 * 60\n",
    "    },\n",
    "    2: {\n",
    "        \"target_multiplier\": 50,\n",
    "        \"time_limit\": \"1 hour\",\n",
    "        \"time_seconds\": 1 * 60 * 60\n",
    "    },\n",
    "    3: {\n",
    "        \"target_multiplier\": 100,\n",
    "        \"time_limit\": \"2 hours\",\n",
    "        \"time_seconds\": 2 * 60 * 60\n",
    "    },\n",
    "    4: {\n",
    "        \"target_multiplier\": 200,\n",
    "        \"time_limit\": \"3 hours\",\n",
    "        \"time_seconds\": 3 * 60 * 60\n",
    "    },\n",
    "    5: {\n",
    "        \"target_multiplier\": 500,\n",
    "        \"time_limit\": \"4 hours\",\n",
    "        \"time_seconds\": 4 * 60 * 60\n",
    "    },\n",
    "    6: {\n",
    "        \"target_multiplier\": 800,\n",
    "        \"time_limit\": \"6 hours\",\n",
    "        \"time_seconds\": 6 * 60 * 60\n",
    "    },\n",
    "    7: {\n",
    "        \"target_multiplier\": 1500,\n",
    "        \"time_limit\": \"8 hours\",\n",
    "        \"time_seconds\": 8 * 60 * 60\n",
    "    },\n",
    "    8: {\n",
    "        \"target_multiplier\": 2500,\n",
    "        \"time_limit\": \"12 hours\",\n",
    "        \"time_seconds\": 12 * 60 * 60\n",
    "    },\n",
    "    9: {\n",
    "        \"target_multiplier\": 5000,\n",
    "        \"time_limit\": \"24 hours\",\n",
    "        \"time_seconds\": 24 * 60 * 60\n",
    "    },\n",
    "    10: {\n",
    "        \"target_multiplier\": 10000,\n",
    "        \"time_limit\":\"48 hours\",\n",
    "        \"time_seconds\":48 * 60 * 60 \n",
    "    }\n",
    "}\n",
    "\n",
    "print(slot_machine_levels)\n",
    "\n",
    "slot1 = np.load('data/multipliers_slot_1.npy')\n",
    "slot2 = np.load('data/multipliers_slot_2.npy')\n",
    "print(type(slot1), slot1.shape)"
   ]
  },
  {
   "cell_type": "markdown",
   "id": "1db8b199",
   "metadata": {},
   "source": [
    "### Slot statistics\n",
    "Just a quick look at the slots statitics."
   ]
  },
  {
   "cell_type": "code",
   "execution_count": 3,
   "id": "0beb5a44",
   "metadata": {},
   "outputs": [
    {
     "name": "stdout",
     "output_type": "stream",
     "text": [
      "             Slot 1        Slot 2\n",
      "count  1.000000e+07  2.000000e+07\n",
      "mean   9.509598e-01  9.670817e-01\n",
      "std    6.934455e+00  1.232296e+01\n",
      "min    0.000000e+00  0.000000e+00\n",
      "25%    0.000000e+00  0.000000e+00\n",
      "50%    0.000000e+00  0.000000e+00\n",
      "75%    1.666000e-01  0.000000e+00\n",
      "max    7.000000e+02  1.470825e+04\n"
     ]
    }
   ],
   "source": [
    "slot1_series = pd.Series(slot1, name=\"Slot 1\")\n",
    "slot2_series = pd.Series(slot2, name=\"Slot 2\")\n",
    "\n",
    "df_slot_stats = pd.concat([slot1_series, slot2_series], axis=1)\n",
    "\n",
    "print(df_slot_stats.describe())\n"
   ]
  },
  {
   "cell_type": "markdown",
   "id": "509b211a",
   "metadata": {},
   "source": [
    "### Spinning\n",
    "Simulating the slot spin rezult with uniformly choosing a slot outcome."
   ]
  },
  {
   "cell_type": "code",
   "execution_count": null,
   "id": "e43621ad",
   "metadata": {},
   "outputs": [],
   "source": [
    "\n",
    "def spin(slot):\n",
    "    random_value = np.random.choice(slot)\n",
    "    print(\"pull\", random_value)\n",
    "    return random_value\n"
   ]
  },
  {
   "cell_type": "code",
   "execution_count": 207,
   "id": "eed78b60",
   "metadata": {},
   "outputs": [
    {
     "name": "stdout",
     "output_type": "stream",
     "text": [
      "(2, 300.0)\n"
     ]
    }
   ],
   "source": [
    "\n",
    "def check_multi(level, current_multiplier, used_spins, spin_time):\n",
    "    \"\"\"\n",
    "    Returns: next_level, remaining_time\n",
    "      next_level (int) if current_multiplier >= target and elapsed_seconds <= time_limit\n",
    "      1            if the player failed (reset to level 1)\n",
    "    \"\"\"\n",
    "    info = slot_machine_levels.get(level)\n",
    "    time_limit = info[\"time_seconds\"]\n",
    "    target = info[\"target_multiplier\"]\n",
    "    remaining_time = slot_machine_levels[level][\"time_seconds\"]/spin_time - used_spins\n",
    "\n",
    "\n",
    "    if not info:\n",
    "        # invalid level: reset\n",
    "        return 1, 0.0\n",
    "\n",
    "    if (current_multiplier >= info[\"target_multiplier\"]\n",
    "        and remaining_time >= 0):\n",
    "        next_level = level + 1\n",
    "        # remaining_time = slot_machine_levels[level][\"time_seconds\"]/spin_time - used_spins\n",
    "        return next_level, remaining_time\n",
    "    else:\n",
    "        # failure → reset\n",
    "        return 1, 0.0\n",
    "    \n",
    "print(check_multi(1, 30, 10*60, 2))\n",
    "def test_check_multi():\n",
    "    # player next lvl reached multi = 30 > target = 25 in 10 min, 20 min remains\n",
    "    assert(check_multi(1, 30, 10*60, 1)) == (2, 1200)\n",
    "    # player loses per multiplier\n",
    "    assert(check_multi(1, 10, 600, 1))== (1, 0.0)\n",
    "    # player loses per time\n",
    "    assert(check_multi(1, 30, 31*60, 1))== (1, 0.0)\n",
    "    assert(check_multi(1, 30, 5*60, 2)) == (2, 600)\n",
    "    assert False, \"This test is designed to always fail\"\n",
    "\n"
   ]
  },
  {
   "cell_type": "markdown",
   "id": "03146207",
   "metadata": {},
   "source": [
    "### User Cash Flow Oversight\n",
    "assumption u add money only when u cant bet anymore"
   ]
  },
  {
   "cell_type": "code",
   "execution_count": 200,
   "id": "c542dba7",
   "metadata": {},
   "outputs": [
    {
     "name": "stdout",
     "output_type": "stream",
     "text": [
      "changing bet size\n",
      "(0.0, 0.0, 4)\n"
     ]
    }
   ],
   "source": [
    "def cash_flow(bet_size: float, balance: float, deposit: float, added_fund: int):\n",
    "    total_spend = 0\n",
    "\n",
    "    if balance >=0.0 and added_fund<4:\n",
    "        if bet_size>=balance:\n",
    "            balance += deposit\n",
    "            added_fund += 1\n",
    "            balance -= bet_size\n",
    "        total_spend = balance + bet_size\n",
    "\n",
    "    \n",
    "    if balance < bet_size and added_fund==4:\n",
    "        bet_size = balance\n",
    "        total_spend += bet_size\n",
    "        print(\"changing bet size\")\n",
    "    \n",
    "    return total_spend, balance, added_fund\n",
    "\n",
    "print(cash_flow(10.0, 0.0, 0.0, 4))\n",
    "def test_cash_flow():\n",
    "    # positive balance\n",
    "    assert(cash_flow(0, 10.0, 0, 0) == (10.0, 10.0, 0))\n",
    "    # no balance\n",
    "    assert(cash_flow(20.0, 0, 0, 4) == (0.0, 0.0, 4))\n",
    "    # add deposit\n",
    "    assert(cash_flow(11.0, 10.0, 20.0, 1))==(30.0, 19.0, 2)\n",
    "    # last deposit\n",
    "    assert(cash_flow(15, 10, 5, 3))==(15, 0, 4)\n",
    "    # a test that fails\n",
    "    #assert False, \"This test is designed to always fail\""
   ]
  },
  {
   "cell_type": "markdown",
   "id": "3b057aec",
   "metadata": {},
   "source": [
    "assumption\n",
    "- players have a max of 48h to paticipate to the promo challange\n",
    "- players want to maximize their time per spins --> using all the 48h for betting"
   ]
  },
  {
   "cell_type": "code",
   "execution_count": 261,
   "id": "8307533a",
   "metadata": {},
   "outputs": [
    {
     "name": "stdout",
     "output_type": "stream",
     "text": [
      "(1, 0.0)\n",
      "(1, 0.0)\n",
      "(1, 0.0)\n",
      "(1, 0.0)\n",
      "(1, 0.0)\n",
      "(1, 0.0)\n",
      "(1, 0.0)\n",
      "(1, 0.0)\n",
      "(1, 0.0)\n"
     ]
    },
    {
     "ename": "TypeError",
     "evalue": "'NoneType' object is not subscriptable",
     "output_type": "error",
     "traceback": [
      "\u001b[0;31m---------------------------------------------------------------------------\u001b[0m",
      "\u001b[0;31mTypeError\u001b[0m                                 Traceback (most recent call last)",
      "Cell \u001b[0;32mIn[261], line 16\u001b[0m\n\u001b[1;32m     13\u001b[0m         \u001b[38;5;28mprint\u001b[39m(a)\n\u001b[1;32m     14\u001b[0m     \u001b[38;5;28;01mreturn\u001b[39;00m \u001b[38;5;241m0\u001b[39m\n\u001b[0;32m---> 16\u001b[0m \u001b[43mplayers_gameplay\u001b[49m\u001b[43m(\u001b[49m\u001b[43mauto_spin\u001b[49m\u001b[43m)\u001b[49m\n",
      "Cell \u001b[0;32mIn[261], line 12\u001b[0m, in \u001b[0;36mplayers_gameplay\u001b[0;34m(spin_time)\u001b[0m\n\u001b[1;32m      8\u001b[0m start_lvl \u001b[38;5;241m=\u001b[39m \u001b[38;5;241m1\u001b[39m\n\u001b[1;32m      9\u001b[0m \u001b[38;5;28;01mfor\u001b[39;00m i \u001b[38;5;129;01min\u001b[39;00m \u001b[38;5;28mrange\u001b[39m(\u001b[38;5;28mint\u001b[39m(max_time\u001b[38;5;241m/\u001b[39mspin_time)):\n\u001b[1;32m     10\u001b[0m     \n\u001b[1;32m     11\u001b[0m     \u001b[38;5;66;03m# current_multiplier+=spin(slot1)\u001b[39;00m\n\u001b[0;32m---> 12\u001b[0m     a \u001b[38;5;241m=\u001b[39m \u001b[43mcheck_multi\u001b[49m\u001b[43m(\u001b[49m\u001b[43mi\u001b[49m\u001b[38;5;241;43m+\u001b[39;49m\u001b[38;5;241;43m1\u001b[39;49m\u001b[43m,\u001b[49m\u001b[43m \u001b[49m\u001b[38;5;241;43m0\u001b[39;49m\u001b[43m,\u001b[49m\u001b[43m \u001b[49m\u001b[38;5;241;43m0\u001b[39;49m\u001b[43m,\u001b[49m\u001b[43m \u001b[49m\u001b[43mspin_time\u001b[49m\u001b[43m)\u001b[49m\n\u001b[1;32m     13\u001b[0m     \u001b[38;5;28mprint\u001b[39m(a)\n\u001b[1;32m     14\u001b[0m \u001b[38;5;28;01mreturn\u001b[39;00m \u001b[38;5;241m0\u001b[39m\n",
      "Cell \u001b[0;32mIn[207], line 8\u001b[0m, in \u001b[0;36mcheck_multi\u001b[0;34m(level, current_multiplier, used_spins, spin_time)\u001b[0m\n\u001b[1;32m      2\u001b[0m \u001b[38;5;250m\u001b[39m\u001b[38;5;124;03m\"\"\"\u001b[39;00m\n\u001b[1;32m      3\u001b[0m \u001b[38;5;124;03mReturns: next_level, remaining_time\u001b[39;00m\n\u001b[1;32m      4\u001b[0m \u001b[38;5;124;03m  next_level (int) if current_multiplier >= target and elapsed_seconds <= time_limit\u001b[39;00m\n\u001b[1;32m      5\u001b[0m \u001b[38;5;124;03m  1            if the player failed (reset to level 1)\u001b[39;00m\n\u001b[1;32m      6\u001b[0m \u001b[38;5;124;03m\"\"\"\u001b[39;00m\n\u001b[1;32m      7\u001b[0m info \u001b[38;5;241m=\u001b[39m slot_machine_levels\u001b[38;5;241m.\u001b[39mget(level)\n\u001b[0;32m----> 8\u001b[0m time_limit \u001b[38;5;241m=\u001b[39m \u001b[43minfo\u001b[49m\u001b[43m[\u001b[49m\u001b[38;5;124;43m\"\u001b[39;49m\u001b[38;5;124;43mtime_seconds\u001b[39;49m\u001b[38;5;124;43m\"\u001b[39;49m\u001b[43m]\u001b[49m\n\u001b[1;32m      9\u001b[0m target \u001b[38;5;241m=\u001b[39m info[\u001b[38;5;124m\"\u001b[39m\u001b[38;5;124mtarget_multiplier\u001b[39m\u001b[38;5;124m\"\u001b[39m]\n\u001b[1;32m     10\u001b[0m remaining_time \u001b[38;5;241m=\u001b[39m slot_machine_levels[level][\u001b[38;5;124m\"\u001b[39m\u001b[38;5;124mtime_seconds\u001b[39m\u001b[38;5;124m\"\u001b[39m]\u001b[38;5;241m/\u001b[39mspin_time \u001b[38;5;241m-\u001b[39m used_spins\n",
      "\u001b[0;31mTypeError\u001b[0m: 'NoneType' object is not subscriptable"
     ]
    }
   ],
   "source": [
    "max_time =20   #48*60*60 # s\n",
    "auto_spin = 2 # s\n",
    "human_avg_spin = 5 # s\n",
    "start_lvl = 1\n",
    "\n",
    "def players_gameplay(spin_time):\n",
    "    current_multiplier = 0\n",
    "    start_lvl = 1\n",
    "    for i in range(int(max_time/spin_time)):\n",
    "        \n",
    "        # current_multiplier+=spin(slot1)\n",
    "        a = check_multi(i+1, 0, 0, spin_time)\n",
    "        print(a)\n",
    "    return 0\n",
    "\n",
    "players_gameplay(auto_spin)"
   ]
  },
  {
   "cell_type": "code",
   "execution_count": 202,
   "id": "0a6ed6db",
   "metadata": {},
   "outputs": [
    {
     "name": "stdout",
     "output_type": "stream",
     "text": [
      "\u001b[31mF\u001b[0m\u001b[32m.\u001b[0m\u001b[31m                                                                                           [100%]\u001b[0m\n",
      "============================================= FAILURES =============================================\n",
      "\u001b[31m\u001b[1m_________________________________________ test_check_multi _________________________________________\u001b[0m\n",
      "\n",
      "    \u001b[0m\u001b[94mdef\u001b[39;49;00m\u001b[90m \u001b[39;49;00m\u001b[92mtest_check_multi\u001b[39;49;00m():\u001b[90m\u001b[39;49;00m\n",
      "        \u001b[90m# player next lvl reached multi = 30 > target = 25 in 10 min, 20 min remains\u001b[39;49;00m\u001b[90m\u001b[39;49;00m\n",
      "        \u001b[94massert\u001b[39;49;00m(check_multi(\u001b[94m1\u001b[39;49;00m, \u001b[94m30\u001b[39;49;00m, \u001b[94m10\u001b[39;49;00m*\u001b[94m60\u001b[39;49;00m, \u001b[94m1\u001b[39;49;00m)) == (\u001b[94m2\u001b[39;49;00m, \u001b[94m1200\u001b[39;49;00m)\u001b[90m\u001b[39;49;00m\n",
      "        \u001b[90m# player loses per multiplier\u001b[39;49;00m\u001b[90m\u001b[39;49;00m\n",
      "        \u001b[94massert\u001b[39;49;00m(check_multi(\u001b[94m1\u001b[39;49;00m, \u001b[94m10\u001b[39;49;00m, \u001b[94m600\u001b[39;49;00m, \u001b[94m1\u001b[39;49;00m))== (\u001b[94m1\u001b[39;49;00m, \u001b[94m0.0\u001b[39;49;00m)\u001b[90m\u001b[39;49;00m\n",
      "        \u001b[90m# player loses per time\u001b[39;49;00m\u001b[90m\u001b[39;49;00m\n",
      "        \u001b[94massert\u001b[39;49;00m(check_multi(\u001b[94m1\u001b[39;49;00m, \u001b[94m30\u001b[39;49;00m, \u001b[94m31\u001b[39;49;00m*\u001b[94m60\u001b[39;49;00m, \u001b[94m1\u001b[39;49;00m))== (\u001b[94m1\u001b[39;49;00m, \u001b[94m0.0\u001b[39;49;00m)\u001b[90m\u001b[39;49;00m\n",
      "        \u001b[94massert\u001b[39;49;00m(check_multi(\u001b[94m1\u001b[39;49;00m, \u001b[94m30\u001b[39;49;00m, \u001b[94m5\u001b[39;49;00m*\u001b[94m60\u001b[39;49;00m, \u001b[94m2\u001b[39;49;00m)) == (\u001b[94m2\u001b[39;49;00m, \u001b[94m600\u001b[39;49;00m)\u001b[90m\u001b[39;49;00m\n",
      ">       \u001b[94massert\u001b[39;49;00m \u001b[94mFalse\u001b[39;49;00m, \u001b[33m\"\u001b[39;49;00m\u001b[33mThis test is designed to always fail\u001b[39;49;00m\u001b[33m\"\u001b[39;49;00m\u001b[90m\u001b[39;49;00m\n",
      "\u001b[1m\u001b[31mE       AssertionError: This test is designed to always fail\u001b[0m\n",
      "\u001b[1m\u001b[31mE       assert False\u001b[0m\n",
      "\n",
      "\u001b[1m\u001b[31m/tmp/ipykernel_6331/1590133725.py\u001b[0m:35: AssertionError\n",
      "--------------------------------------- Captured stdout call ---------------------------------------\n",
      "1800.0\n",
      "1800.0\n",
      "1800.0\n",
      "900.0\n",
      "\u001b[36m\u001b[1m===================================== short test summary info ======================================\u001b[0m\n",
      "\u001b[31mFAILED\u001b[0m t_0dd1d60b016e411da53740fb5ad4acb6.py::\u001b[1mtest_check_multi\u001b[0m - AssertionError: This test is designed to always fail\n",
      "\u001b[31m\u001b[31m\u001b[1m1 failed\u001b[0m, \u001b[32m1 passed\u001b[0m\u001b[31m in 0.01s\u001b[0m\u001b[0m\n"
     ]
    },
    {
     "data": {
      "text/plain": [
       "<ExitCode.TESTS_FAILED: 1>"
      ]
     },
     "execution_count": 202,
     "metadata": {},
     "output_type": "execute_result"
    }
   ],
   "source": [
    "# running tests\n",
    "ipytest.run()"
   ]
  }
 ],
 "metadata": {
  "kernelspec": {
   "display_name": ".venv",
   "language": "python",
   "name": "python3"
  },
  "language_info": {
   "codemirror_mode": {
    "name": "ipython",
    "version": 3
   },
   "file_extension": ".py",
   "mimetype": "text/x-python",
   "name": "python",
   "nbconvert_exporter": "python",
   "pygments_lexer": "ipython3",
   "version": "3.10.12"
  }
 },
 "nbformat": 4,
 "nbformat_minor": 5
}
