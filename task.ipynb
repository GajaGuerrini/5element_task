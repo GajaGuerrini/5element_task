{
 "cells": [
  {
   "cell_type": "markdown",
   "id": "08cb1ec5",
   "metadata": {},
   "source": [
    "# Task:\n",
    "1. Simulate player gameplay \n",
    "2. Estimate their average spend\n",
    "3. Determine fixed rewards for each completed level. The reward structure should be designed in such a way that the expected value of player rewards equals 1.3 times their\n",
    "average spend (including any additional deposits)."
   ]
  },
  {
   "cell_type": "markdown",
   "id": "7c728409",
   "metadata": {},
   "source": [
    "### 1. Simulation of Gameplay\n",
    "The player progresses through the levels by playing slot games. Upon reaching specific multipliers (e.g. x25, x50, etc.) in a limited time, the player advances to the next level. \n",
    "\n",
    "##### i. Player progression:\n",
    "- Player enters a challenge at level 1 with a non zero bankroll (approx. 50 EUR)\n",
    "- Players must hit or exceed the target multiplier in the given time.\n",
    "- If they reached the next level the unused time is added to the next level.\n",
    "- Players can add additional funds up to 4 times.\n",
    "\n",
    "##### ii. End of the game:\n",
    "- Players do not reach or surpass the target multiplaier in the given time\n",
    "- Players reach the max multiplaier\n",
    "- Players run out of money"
   ]
  },
  {
   "cell_type": "markdown",
   "id": "5952374f",
   "metadata": {},
   "source": [
    "### 2. Exploration of Variables\n",
    "\n",
    "How results vary based on: (given a slot machine)\n",
    "- initial bankroll size\n",
    "- additional deposit (max 4)\n",
    "- bet size: 1, 2, 5, 10, 20, 50 €"
   ]
  },
  {
   "cell_type": "markdown",
   "id": "5604d418",
   "metadata": {},
   "source": [
    "### 3. Reward Design\n",
    "\n",
    "- Define a fixed monetary reward for each level.\n",
    "- Ensure the prize structure logically scales with level difficulty and encourages\n",
    "progression.\n",
    "- The target is for the expected value of the rewards to equal 1.3× the player’s average\n",
    "spend, including all deposits. Example: A player deposits a total €100 of their funds\n",
    "into playing; the rewards should total €130.\n"
   ]
  },
  {
   "cell_type": "markdown",
   "id": "22b9bbf4",
   "metadata": {},
   "source": [
    "### 4. Key metrics:\n",
    "\n",
    "- player distribution across the levels\n",
    "- avg. spend per level for all levels\n",
    "- avg. time spend per level (potential indicator for player engagement)\n",
    "- avg. reward per level\n",
    "\n"
   ]
  },
  {
   "cell_type": "markdown",
   "id": "ace94165",
   "metadata": {},
   "source": [
    "### 5. Assumptions:\n",
    "- Spin time: \n",
    "    - 2 s (autospin)\n",
    "    - 5 s (player input) \n",
    "- Bet size: 1, 2, 5, 10, 20, 50 € (just mimicking the currency options)"
   ]
  },
  {
   "cell_type": "code",
   "execution_count": 2,
   "id": "d7934ffb",
   "metadata": {},
   "outputs": [],
   "source": [
    "import numpy as np\n",
    "import seaborn as sns\n",
    "import matplotlib.pyplot as plt\n",
    "import pandas as pd\n",
    "import time\n"
   ]
  },
  {
   "cell_type": "code",
   "execution_count": 3,
   "id": "9a7530bf",
   "metadata": {},
   "outputs": [
    {
     "name": "stdout",
     "output_type": "stream",
     "text": [
      "{1: {'target_multiplier': 25, 'time_limit': '30 min', 'time_seconds': 1800}, 2: {'target_multiplier': 50, 'time_limit': '1 hour', 'time_seconds': 3600}, 3: {'target_multiplier': 100, 'time_limit': '2 hours', 'time_seconds': 7200}, 4: {'target_multiplier': 200, 'time_limit': '3 hours', 'time_seconds': 10800}, 5: {'target_multiplier': 500, 'time_limit': '4 hours', 'time_seconds': 14400}, 6: {'target_multiplier': 800, 'time_limit': '6 hours', 'time_seconds': 21600}, 7: {'target_multiplier': 1500, 'time_limit': '8 hours', 'time_seconds': 28800}, 8: {'target_multiplier': 2500, 'time_limit': '12 hours', 'time_seconds': 43200}, 9: {'target_multiplier': 5000, 'time_limit': '24 hours', 'time_seconds': 86400}}\n",
      "<class 'numpy.ndarray'> (10000000,)\n"
     ]
    }
   ],
   "source": [
    "slot_machine_levels = {\n",
    "    1: {\n",
    "        \"target_multiplier\": 25,\n",
    "        \"time_limit\": \"30 min\",\n",
    "        \"time_seconds\": 30 * 60\n",
    "    },\n",
    "    2: {\n",
    "        \"target_multiplier\": 50,\n",
    "        \"time_limit\": \"1 hour\",\n",
    "        \"time_seconds\": 1 * 60 * 60\n",
    "    },\n",
    "    3: {\n",
    "        \"target_multiplier\": 100,\n",
    "        \"time_limit\": \"2 hours\",\n",
    "        \"time_seconds\": 2 * 60 * 60\n",
    "    },\n",
    "    4: {\n",
    "        \"target_multiplier\": 200,\n",
    "        \"time_limit\": \"3 hours\",\n",
    "        \"time_seconds\": 3 * 60 * 60\n",
    "    },\n",
    "    5: {\n",
    "        \"target_multiplier\": 500,\n",
    "        \"time_limit\": \"4 hours\",\n",
    "        \"time_seconds\": 4 * 60 * 60\n",
    "    },\n",
    "    6: {\n",
    "        \"target_multiplier\": 800,\n",
    "        \"time_limit\": \"6 hours\",\n",
    "        \"time_seconds\": 6 * 60 * 60\n",
    "    },\n",
    "    7: {\n",
    "        \"target_multiplier\": 1500,\n",
    "        \"time_limit\": \"8 hours\",\n",
    "        \"time_seconds\": 8 * 60 * 60\n",
    "    },\n",
    "    8: {\n",
    "        \"target_multiplier\": 2500,\n",
    "        \"time_limit\": \"12 hours\",\n",
    "        \"time_seconds\": 12 * 60 * 60\n",
    "    },\n",
    "    9: {\n",
    "        \"target_multiplier\": 5000,\n",
    "        \"time_limit\": \"24 hours\",\n",
    "        \"time_seconds\": 24 * 60 * 60\n",
    "    }\n",
    "}\n",
    "\n",
    "print(slot_machine_levels)\n",
    "\n",
    "slot1 = np.load('data/multipliers_slot_1.npy')\n",
    "slot2 = np.load('data/multipliers_slot_2.npy')\n",
    "print(type(slot1), slot1.shape)"
   ]
  },
  {
   "cell_type": "code",
   "execution_count": 4,
   "id": "0beb5a44",
   "metadata": {},
   "outputs": [
    {
     "name": "stdout",
     "output_type": "stream",
     "text": [
      "             Slot 1        Slot 2\n",
      "count  1.000000e+07  2.000000e+07\n",
      "mean   9.509598e-01  9.670817e-01\n",
      "std    6.934455e+00  1.232296e+01\n",
      "min    0.000000e+00  0.000000e+00\n",
      "25%    0.000000e+00  0.000000e+00\n",
      "50%    0.000000e+00  0.000000e+00\n",
      "75%    1.666000e-01  0.000000e+00\n",
      "max    7.000000e+02  1.470825e+04\n"
     ]
    }
   ],
   "source": [
    "slot1_series = pd.Series(slot1, name=\"Slot 1\")\n",
    "slot2_series = pd.Series(slot2, name=\"Slot 2\")\n",
    "\n",
    "df_slot_stats = pd.concat([slot1_series, slot2_series], axis=1)\n",
    "\n",
    "print(df_slot_stats.describe())\n"
   ]
  },
  {
   "cell_type": "code",
   "execution_count": 5,
   "id": "e43621ad",
   "metadata": {},
   "outputs": [
    {
     "ename": "SyntaxError",
     "evalue": "invalid syntax (2852498460.py, line 15)",
     "output_type": "error",
     "traceback": [
      "\u001b[0;36m  Cell \u001b[0;32mIn[5], line 15\u001b[0;36m\u001b[0m\n\u001b[0;31m    if level == slot_machine_levels[]:\u001b[0m\n\u001b[0m                                    ^\u001b[0m\n\u001b[0;31mSyntaxError\u001b[0m\u001b[0;31m:\u001b[0m invalid syntax\n"
     ]
    }
   ],
   "source": [
    "remaining_time = 30*60 # s\n",
    "t_spinn = 2 #s automatic spin, player click ~ 6 s\n",
    "initial_budget = 50 #€\n",
    "reached_lvl = 1\n",
    "reached_multi = 0.0\n",
    "\n",
    "\n",
    "def spin(slot):\n",
    "    # slot = slot.flatten()\n",
    "    random_value = np.random.choice(slot)\n",
    "    print(\"pull\", random_value)\n",
    "    return random_value\n",
    "\n",
    "def check_multi(level, multiplier, time_used):\n",
    "    if level == slot_machine_levels[]:\n",
    "        if multiplier==slot_machine_levels.target_multiplier:\n",
    "            if time_used <= max_time_possible:\n",
    "                return level+1  # the player won the lvl\n",
    "    else:\n",
    "        return 0 # the player lost the lvl and starts over again, reset all stats to the first level\n",
    "\n",
    "i=8\n",
    "while( i > 0):\n",
    "    reached_multi += spin(slot1)\n",
    "    print(reached_multi)\n",
    "    print(i)\n",
    "    # check multi\n",
    "    i-=1\n",
    "\n",
    "\n"
   ]
  },
  {
   "cell_type": "code",
   "execution_count": null,
   "id": "eed78b60",
   "metadata": {},
   "outputs": [
    {
     "ename": "NameError",
     "evalue": "name 'slot_machine_levels' is not defined",
     "output_type": "error",
     "traceback": [
      "\u001b[0;31m---------------------------------------------------------------------------\u001b[0m",
      "\u001b[0;31mNameError\u001b[0m                                 Traceback (most recent call last)",
      "Cell \u001b[0;32mIn[1], line 59\u001b[0m\n\u001b[1;32m     56\u001b[0m     \u001b[38;5;28mprint\u001b[39m(\u001b[38;5;124m\"\u001b[39m\u001b[38;5;130;01m\\n\u001b[39;00m\u001b[38;5;124m🏆 You\u001b[39m\u001b[38;5;124m'\u001b[39m\u001b[38;5;124mve conquered all levels!\u001b[39m\u001b[38;5;124m\"\u001b[39m)\n\u001b[1;32m     58\u001b[0m \u001b[38;5;28;01mif\u001b[39;00m \u001b[38;5;18m__name__\u001b[39m \u001b[38;5;241m==\u001b[39m \u001b[38;5;124m\"\u001b[39m\u001b[38;5;124m__main__\u001b[39m\u001b[38;5;124m\"\u001b[39m:\n\u001b[0;32m---> 59\u001b[0m     \u001b[43mplay_session\u001b[49m\u001b[43m(\u001b[49m\u001b[43m)\u001b[49m\n",
      "Cell \u001b[0;32mIn[1], line 29\u001b[0m, in \u001b[0;36mplay_session\u001b[0;34m(start_level)\u001b[0m\n\u001b[1;32m     27\u001b[0m level \u001b[38;5;241m=\u001b[39m start_level\n\u001b[1;32m     28\u001b[0m \u001b[38;5;28;01mwhile\u001b[39;00m level \u001b[38;5;241m<\u001b[39m\u001b[38;5;241m=\u001b[39m \u001b[38;5;241m2\u001b[39m: \u001b[38;5;66;03m#max(slot_machine_levels.keys()):\u001b[39;00m\n\u001b[0;32m---> 29\u001b[0m     target \u001b[38;5;241m=\u001b[39m \u001b[43mslot_machine_levels\u001b[49m[level][\u001b[38;5;124m\"\u001b[39m\u001b[38;5;124mtarget_multiplier\u001b[39m\u001b[38;5;124m\"\u001b[39m]\n\u001b[1;32m     30\u001b[0m     time_limit \u001b[38;5;241m=\u001b[39m slot_machine_levels[level][\u001b[38;5;124m\"\u001b[39m\u001b[38;5;124mtime_seconds\u001b[39m\u001b[38;5;124m\"\u001b[39m]\n\u001b[1;32m     32\u001b[0m     \u001b[38;5;28mprint\u001b[39m(\u001b[38;5;124mf\u001b[39m\u001b[38;5;124m\"\u001b[39m\u001b[38;5;130;01m\\n\u001b[39;00m\u001b[38;5;124m-- Level \u001b[39m\u001b[38;5;132;01m{\u001b[39;00mlevel\u001b[38;5;132;01m}\u001b[39;00m\u001b[38;5;124m: need ×\u001b[39m\u001b[38;5;132;01m{\u001b[39;00mtarget\u001b[38;5;132;01m}\u001b[39;00m\u001b[38;5;124m in \u001b[39m\u001b[38;5;132;01m{\u001b[39;00mslot_machine_levels[level][\u001b[38;5;124m'\u001b[39m\u001b[38;5;124mtime_limit\u001b[39m\u001b[38;5;124m'\u001b[39m]\u001b[38;5;132;01m}\u001b[39;00m\u001b[38;5;124m\"\u001b[39m)\n",
      "\u001b[0;31mNameError\u001b[0m: name 'slot_machine_levels' is not defined"
     ]
    }
   ],
   "source": [
    "def check_multi(level, current_multiplier, elapsed_seconds):\n",
    "    \"\"\"\n",
    "    Returns:\n",
    "      next_level (int) if current_multiplier >= target and elapsed_seconds <= time_limit\n",
    "      1            if the player failed (reset to level 1)\n",
    "    \"\"\"\n",
    "    info = slot_machine_levels.get(level)\n",
    "    if not info:\n",
    "        # invalid level: reset\n",
    "        return 1\n",
    "\n",
    "    if (current_multiplier >= info[\"target_multiplier\"]\n",
    "        and elapsed_seconds <= info[\"time_seconds\"]):\n",
    "        # success → go to next level (or stay at max)\n",
    "        return min(level + 1, max(slot_machine_levels.keys()))\n",
    "    else:\n",
    "        # failure → reset\n",
    "        return 1\n",
    "\n",
    "def spin(slot):\n",
    "    # slot = slot.flatten()\n",
    "    random_value = np.random.choice(slot)\n",
    "    print(\"pull\", random_value)\n",
    "    return random_value\n",
    "\n",
    "def play_session(start_level=1):\n",
    "    level = start_level\n",
    "    iter_count = 0\n",
    "    while level <= 2 and iter_count <100: #max(slot_machine_levels.keys()):\n",
    "        iter_count +=1\n",
    "        target = slot_machine_levels[level][\"target_multiplier\"]\n",
    "        time_limit = slot_machine_levels[level][\"time_seconds\"]\n",
    "\n",
    "        print(f\"\\n-- Level {level}: need ×{target} in {slot_machine_levels[level]['time_limit']}\")\n",
    "\n",
    "        current_multiplier = 0.0\n",
    "        start_time = time.time()\n",
    "\n",
    "        # spin until time runs out or target reached\n",
    "        # while True:\n",
    "        #     m = spin(slot1)\n",
    "        #     current_multiplier += m\n",
    "        #     elapsed = time.time() - start_time\n",
    "\n",
    "        #     print(f\"  Spin → ×{m:.2f} → total ×{current_multiplier:.2f}\", end='\\r')\n",
    "\n",
    "        #     # check win/lose\n",
    "        #     new_level = check_multi(level, current_multiplier, elapsed)\n",
    "        #     if new_level > level:\n",
    "        #         print(f\"\\n✅ Level {level} complete in {elapsed:.1f}s!\")\n",
    "        #         level = new_level\n",
    "        #         break\n",
    "        #     if elapsed > time_limit:\n",
    "        #         print(f\"\\n❌ Time up! Resetting to level 1.\")\n",
    "        #         level = 1\n",
    "        #         break\n",
    "\n",
    "    print(\"\\n🏆 You've conquered all levels!\")\n",
    "\n",
    "if __name__ == \"__main__\":\n",
    "    play_session()"
   ]
  }
 ],
 "metadata": {
  "kernelspec": {
   "display_name": ".venv",
   "language": "python",
   "name": "python3"
  },
  "language_info": {
   "codemirror_mode": {
    "name": "ipython",
    "version": 3
   },
   "file_extension": ".py",
   "mimetype": "text/x-python",
   "name": "python",
   "nbconvert_exporter": "python",
   "pygments_lexer": "ipython3",
   "version": "3.10.12"
  }
 },
 "nbformat": 4,
 "nbformat_minor": 5
}
