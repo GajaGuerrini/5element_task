{
 "cells": [
  {
   "cell_type": "markdown",
   "id": "08cb1ec5",
   "metadata": {},
   "source": [
    "# Task:\n",
    "1. Simulate player gameplay \n",
    "2. Estimate their average spend\n",
    "3. Determine fixed rewards for each completed level. The reward structure should be designed in such a way that the expected value of player rewards equals 1.3 times their\n",
    "average spend (including any additional deposits).\n",
    "\n",
    "### 1. Simulation of Gameplay\n",
    "The player progresses through the levels by playing slot games. Upon reaching specific multipliers (e.g. x25, x50, etc.) in a limited time, the player advances to the next level. \n",
    "\n",
    "##### i. Player progression:\n",
    "- Player enters a challenge at level 1 with a non zero bankroll (approx. 50 EUR)\n",
    "- Players must hit or exceed the target multiplier in the given time.\n",
    "- Unused time is added to the next level.\n",
    "- Players can add additional funds up to 4 times.\n",
    "\n",
    "##### ii. End of the game:\n",
    "- Players do not reach or surpass the target multiplaier in the given time\n",
    "- Players reach the max multiplaier\n",
    "- Players run out of money\n",
    "\n",
    "### \n"
   ]
  }
 ],
 "metadata": {
  "language_info": {
   "name": "python"
  }
 },
 "nbformat": 4,
 "nbformat_minor": 5
}
